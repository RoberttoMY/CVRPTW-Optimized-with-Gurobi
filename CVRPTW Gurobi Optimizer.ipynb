{
 "cells": [
  {
   "cell_type": "markdown",
   "metadata": {},
   "source": [
    "## ** CVRPTW resuelto en Gurobi-Python**"
   ]
  },
  {
   "cell_type": "markdown",
   "metadata": {},
   "source": [
    "#### **Variables de decisión**\n",
    "\n",
    "- $x_{i,j,k}$ =1 cuando se viaje por el $(i,j)$ con el vehículo k   $\\in K$ por lo que el arco es $(i,j,k) \\in A$; cero de lo contrario\n",
    "- $t_{i,k}$ =tiempo en que el vehículo k  $\\in K$ llega al nodo i $\\in N$\n",
    "\n",
    "#### **Función Objetivo**\n",
    "$Min\\; z= \\; \\displaystyle\\sum_{i\\;\\in\\;A}^{} \\sum_{j\\;\\in\\;A}^{}\\sum_{k\\;\\in\\;A}^{} x_{ijk}d_{ij}$\n",
    "\n",
    "#### **Restricciones**\n",
    "$\\displaystyle\\sum_{j\\;\\in\\;C}^{}  x_{0jk}<=1$  $\\; \\; \\forall \\;k \\; \\in \\; K$\n",
    "\n",
    "$\\displaystyle\\sum_{i\\;\\in\\;C}^{}  x_{i0k}<=1$  $\\; \\; \\forall \\;k \\; \\in \\; K$\n",
    "\n",
    "$\\displaystyle\\sum_{j\\;\\in\\;N}^{}  x_{ijk}- \\sum_{j\\;\\in\\;N}^{} x_{jik}=0$  $\\; \\; \\forall \\;k \\; \\in \\; K$\n",
    "\n",
    "$\\displaystyle\\sum_{j\\;\\in\\;N}^{}\\sum_{k\\;\\in\\;K}^{} x_{ijk}=1$  $\\; \\; \\forall \\;i \\; \\in \\; C$\n",
    "\n",
    "$\\displaystyle\\sum_{i\\;\\in\\;C}^{}  d_{i} \\sum_{j\\;\\in\\;N}^{} x_{ijk}= Q$  $\\; \\; \\forall \\;k \\; \\in \\; K$\n",
    "\n",
    "$t_{ik}+s_{i}+t_{ij}-M*(1-x_{i,j,k})<=t_{jk}$ $\\; \\; \\forall \\;k \\; \\in K$, (i,j) $\\in A$ \n",
    "\n",
    "$ a_{i}\\leq t_{ik} \\leq b_{i} $ $\\; \\; \\forall \\;k \\; \\in K$, i $\\in A$ \n"
   ]
  },
  {
   "cell_type": "markdown",
   "metadata": {},
   "source": [
    "### **Formulación matemática del problema**\n",
    "-cliente (C): Conjunto de clientes\n",
    "\n",
    "-nodos (N) : Conjunto de nodos, donde 0 representa del DC |$\\;N= \\{0\\} \\cup C $\n",
    "\n",
    "-arcos (A´): Conjunto de arcos N x N\n",
    "\n",
    "-arcosVehiculos (A)= conjuntos de arcos A' x K\n",
    "\n",
    "-K= Conjunto vehículos disponibles\n",
    "\n",
    "-$d_{ij}$ = Distancia del nodo i al j\n",
    "\n",
    "-$t_{ij}$ = Tiempo de viaje del nodo i al j\n",
    "\n",
    "-$s_{i}$ = Tiempo de servicio en el nodo i\n",
    "\n",
    "-$q_i$ = Demanda del nodo i\n",
    "\n",
    "-Q: Capacidad de los vehículos.\n",
    "\n",
    "-$a_{i}$= Tiempo mínimo de llegada al nodo i\n",
    "\n",
    "-$b_{i}$= Tiempo máximo de llegada al nodo i"
   ]
  },
  {
   "cell_type": "markdown",
   "metadata": {},
   "source": [
    "#### Importar librerías"
   ]
  },
  {
   "cell_type": "code",
   "execution_count": 1,
   "metadata": {},
   "outputs": [],
   "source": [
    "import numpy as np\n",
    "import matplotlib.pyplot as plt\n",
    "from gurobipy import Model, GRB, quicksum"
   ]
  },
  {
   "cell_type": "markdown",
   "metadata": {},
   "source": [
    "#### Parámetros"
   ]
  },
  {
   "cell_type": "code",
   "execution_count": 2,
   "metadata": {},
   "outputs": [],
   "source": [
    "M=1000 #Valor muy grande\n",
    "Q = 70 # capacidad de los camiones\n",
    "clientes=[1, 2, 3, 4, 5, 6]\n",
    "nodos=[0, 1, 2, 3, 4, 5, 6] #incluye el CD inicial y el de regreso\n",
    "vehiculos=[1, 2, 3]\n",
    "q= {1:10, 2:7, 3:13, 4:19, 5:26, 6:30} #demanda\n",
    "\n",
    "a={0:0, 1:0, 2:0, 3:0, 4:0, 5:0, 6:0} #LBTW\n",
    "b={0:200, 1:200, 2:200, 3:200, 4:200, 5:200,6:200} #UBTW\n",
    "\n",
    "s={0:0, 1:10, 2:10, 3:10, 4:10, 5:10, 6:10} #Tiempo de servicio en el nodo i\n"
   ]
  },
  {
   "cell_type": "markdown",
   "metadata": {},
   "source": [
    "#### Coordenadas x e y"
   ]
  },
  {
   "cell_type": "code",
   "execution_count": 3,
   "metadata": {},
   "outputs": [],
   "source": [
    "loc_x=[35,41,35,55,55,15,65]\n",
    "loc_y=[35,49,17,45,20,30,20]"
   ]
  },
  {
   "cell_type": "markdown",
   "metadata": {},
   "source": [
    "#### Graficar posición de los nodos"
   ]
  },
  {
   "cell_type": "code",
   "execution_count": 4,
   "metadata": {},
   "outputs": [
    {
     "data": {
      "image/png": "[encoded data removed]",
      "text/plain": [
       "<Figure size 1152x504 with 1 Axes>"
      ]
     },
     "metadata": {
      "needs_background": "light"
     },
     "output_type": "display_data"
    }
   ],
   "source": [
    "plt.figure(figsize=(16,7)) #tamaño del lienzo donde se grafica\n",
    "plt.scatter(loc_x,loc_y,c='green') #graficar coordenadas de clientes\n",
    "\n",
    "for i in clientes:\n",
    "     plt.annotate('$q_{%d}=%d$'%(i,q[i]),(loc_x[i]-1,loc_y[i]-1.5)) #lo que acompaña al \"q\" es la demanda de cada cliente\n",
    "\n",
    "#graficar CD\n",
    "plt.plot(loc_x[0],loc_y[0],color=\"red\",marker='s') #marker (cuadrado)\n",
    "plt.annotate('CD',(loc_x[0]+0.5,loc_y[0]-0.5))\n",
    "\n",
    "#Formato al gráfico\n",
    "plt.xlabel(\"Eje X\")\n",
    "plt.ylabel(\"Eje y\")\n",
    "plt.title(\" Gráfico de Nodos - CVRPTW\")\n",
    "plt.show()\n"
   ]
  },
  {
   "cell_type": "markdown",
   "metadata": {},
   "source": [
    "#### Estructura de datos"
   ]
  },
  {
   "cell_type": "code",
   "execution_count": 5,
   "metadata": {},
   "outputs": [],
   "source": [
    "arcos = {(i, j) for i in nodos for j in nodos if i != j} #lista con caminos\n",
    "arcosVehiculos = {(i, j, k) for i in nodos for j in nodos for k in vehiculos if i != j} \n",
    "vehiculosNodos={(k, i) for i in nodos for k in vehiculos} \n",
    "\n",
    "distancia = {(i, j): np.hypot(loc_x[i]-loc_x[j], loc_y[i]-loc_y[j]) for i,j in arcos} # Matriz de distancias\n",
    "tiempo = {(i, j): distancia[i,j]+ s[i] for i in nodos for j in nodos if i != j}"
   ]
  },
  {
   "cell_type": "markdown",
   "metadata": {},
   "source": [
    "## Creación y Optimización - CVRPTW ##"
   ]
  },
  {
   "cell_type": "markdown",
   "metadata": {},
   "source": [
    "#### Crear modelo"
   ]
  },
  {
   "cell_type": "code",
   "execution_count": 6,
   "metadata": {},
   "outputs": [
    {
     "name": "stdout",
     "output_type": "stream",
     "text": [
      "Set parameter Username\n",
      "Academic license - for non-commercial use only - expires 2022-04-28\n"
     ]
    }
   ],
   "source": [
    "mdl=Model('CVRPTW')"
   ]
  },
  {
   "cell_type": "markdown",
   "metadata": {},
   "source": [
    "#### **Variables de decisión** ####\n",
    "\n",
    "- $x_{i,j,k}$ =1 cuando se viaje por el $(i,j)$ con el vehículo k   $\\in K$ por lo que el arco es $(i,j,k) \\in A$; cero de lo contrario\n",
    "- $t_{i,k}$ =tiempo en que el vehículo k  $\\in K$ llega al nodo i $\\in N$"
   ]
  },
  {
   "cell_type": "code",
   "execution_count": 7,
   "metadata": {},
   "outputs": [],
   "source": [
    "x=mdl.addVars(arcosVehiculos,vtype=GRB.BINARY)\n",
    "t=mdl.addVars(vehiculosNodos,ub=b,lb=a,vtype=GRB.CONTINUOUS) # reemplaza la restricción:ub (upper bound o limite superior) lb (lower bound o limite inferior) "
   ]
  },
  {
   "cell_type": "markdown",
   "metadata": {},
   "source": [
    "#### **Función Objetivo** ####\n",
    "$Min\\; z= \\; \\displaystyle\\sum_{i\\;\\in\\;A}^{} \\sum_{j\\;\\in\\;A}^{}\\sum_{k\\;\\in\\;A}^{} x_{ijk}d_{ij}$"
   ]
  },
  {
   "cell_type": "code",
   "execution_count": 8,
   "metadata": {},
   "outputs": [],
   "source": [
    "obj=quicksum(distancia[i,j]*x[i,j,k] for i, j, k in arcosVehiculos)\n",
    "mdl.setObjective(obj,GRB.MINIMIZE)"
   ]
  },
  {
   "cell_type": "markdown",
   "metadata": {},
   "source": [
    "#### **Restricciones** \n",
    "$\\displaystyle\\sum_{j\\;\\in\\;C}^{}  x_{0jk}<=1$  $\\; \\; \\forall \\;k \\; \\in \\; K$\n",
    "\n",
    "$\\displaystyle\\sum_{i\\;\\in\\;C}^{}  x_{i0k}<=1$  $\\; \\; \\forall \\;k \\; \\in \\; K$\n",
    "\n",
    "$\\displaystyle\\sum_{j\\;\\in\\;N}^{}  x_{ijk}- \\sum_{j\\;\\in\\;N}^{} x_{jik}=0$  $\\; \\; \\forall \\;k \\; \\in \\; K$\n",
    "\n",
    "$\\displaystyle\\sum_{j\\;\\in\\;N}^{}\\sum_{k\\;\\in\\;K}^{} x_{ijk}=1$  $\\; \\; \\forall \\;i \\; \\in \\; C$\n",
    "\n",
    "$\\displaystyle\\sum_{i\\;\\in\\;C}^{}  d_{i} \\sum_{j\\;\\in\\;N}^{} x_{ijk}= Q$  $\\; \\; \\forall \\;k \\; \\in \\; K$\n",
    "\n",
    "$t_{ik}+s_{i}+t_{ij}-M*(1-x_{i,j,k})<=t_{jk}$ $\\; \\; \\forall \\;k \\; \\in K$, (i,j) $\\in A$ \n",
    "\n",
    "$ a_{i}\\leq t_{ik} \\leq b_{i} $ $\\; \\; \\forall \\;k \\; \\in K$, i $\\in A$ "
   ]
  },
  {
   "cell_type": "code",
   "execution_count": 9,
   "metadata": {},
   "outputs": [
    {
     "data": {
      "text/plain": [
       "{(1, 2, 1): <gurobi.Constr *Awaiting Model Update*>,\n",
       " (1, 2, 2): <gurobi.Constr *Awaiting Model Update*>,\n",
       " (1, 2, 3): <gurobi.Constr *Awaiting Model Update*>,\n",
       " (1, 3, 1): <gurobi.Constr *Awaiting Model Update*>,\n",
       " (1, 3, 2): <gurobi.Constr *Awaiting Model Update*>,\n",
       " (1, 3, 3): <gurobi.Constr *Awaiting Model Update*>,\n",
       " (1, 4, 1): <gurobi.Constr *Awaiting Model Update*>,\n",
       " (1, 4, 2): <gurobi.Constr *Awaiting Model Update*>,\n",
       " (1, 4, 3): <gurobi.Constr *Awaiting Model Update*>,\n",
       " (1, 5, 1): <gurobi.Constr *Awaiting Model Update*>,\n",
       " (1, 5, 2): <gurobi.Constr *Awaiting Model Update*>,\n",
       " (1, 5, 3): <gurobi.Constr *Awaiting Model Update*>,\n",
       " (1, 6, 1): <gurobi.Constr *Awaiting Model Update*>,\n",
       " (1, 6, 2): <gurobi.Constr *Awaiting Model Update*>,\n",
       " (1, 6, 3): <gurobi.Constr *Awaiting Model Update*>,\n",
       " (2, 1, 1): <gurobi.Constr *Awaiting Model Update*>,\n",
       " (2, 1, 2): <gurobi.Constr *Awaiting Model Update*>,\n",
       " (2, 1, 3): <gurobi.Constr *Awaiting Model Update*>,\n",
       " (2, 3, 1): <gurobi.Constr *Awaiting Model Update*>,\n",
       " (2, 3, 2): <gurobi.Constr *Awaiting Model Update*>,\n",
       " (2, 3, 3): <gurobi.Constr *Awaiting Model Update*>,\n",
       " (2, 4, 1): <gurobi.Constr *Awaiting Model Update*>,\n",
       " (2, 4, 2): <gurobi.Constr *Awaiting Model Update*>,\n",
       " (2, 4, 3): <gurobi.Constr *Awaiting Model Update*>,\n",
       " (2, 5, 1): <gurobi.Constr *Awaiting Model Update*>,\n",
       " (2, 5, 2): <gurobi.Constr *Awaiting Model Update*>,\n",
       " (2, 5, 3): <gurobi.Constr *Awaiting Model Update*>,\n",
       " (2, 6, 1): <gurobi.Constr *Awaiting Model Update*>,\n",
       " (2, 6, 2): <gurobi.Constr *Awaiting Model Update*>,\n",
       " (2, 6, 3): <gurobi.Constr *Awaiting Model Update*>,\n",
       " (3, 1, 1): <gurobi.Constr *Awaiting Model Update*>,\n",
       " (3, 1, 2): <gurobi.Constr *Awaiting Model Update*>,\n",
       " (3, 1, 3): <gurobi.Constr *Awaiting Model Update*>,\n",
       " (3, 2, 1): <gurobi.Constr *Awaiting Model Update*>,\n",
       " (3, 2, 2): <gurobi.Constr *Awaiting Model Update*>,\n",
       " (3, 2, 3): <gurobi.Constr *Awaiting Model Update*>,\n",
       " (3, 4, 1): <gurobi.Constr *Awaiting Model Update*>,\n",
       " (3, 4, 2): <gurobi.Constr *Awaiting Model Update*>,\n",
       " (3, 4, 3): <gurobi.Constr *Awaiting Model Update*>,\n",
       " (3, 5, 1): <gurobi.Constr *Awaiting Model Update*>,\n",
       " (3, 5, 2): <gurobi.Constr *Awaiting Model Update*>,\n",
       " (3, 5, 3): <gurobi.Constr *Awaiting Model Update*>,\n",
       " (3, 6, 1): <gurobi.Constr *Awaiting Model Update*>,\n",
       " (3, 6, 2): <gurobi.Constr *Awaiting Model Update*>,\n",
       " (3, 6, 3): <gurobi.Constr *Awaiting Model Update*>,\n",
       " (4, 1, 1): <gurobi.Constr *Awaiting Model Update*>,\n",
       " (4, 1, 2): <gurobi.Constr *Awaiting Model Update*>,\n",
       " (4, 1, 3): <gurobi.Constr *Awaiting Model Update*>,\n",
       " (4, 2, 1): <gurobi.Constr *Awaiting Model Update*>,\n",
       " (4, 2, 2): <gurobi.Constr *Awaiting Model Update*>,\n",
       " (4, 2, 3): <gurobi.Constr *Awaiting Model Update*>,\n",
       " (4, 3, 1): <gurobi.Constr *Awaiting Model Update*>,\n",
       " (4, 3, 2): <gurobi.Constr *Awaiting Model Update*>,\n",
       " (4, 3, 3): <gurobi.Constr *Awaiting Model Update*>,\n",
       " (4, 5, 1): <gurobi.Constr *Awaiting Model Update*>,\n",
       " (4, 5, 2): <gurobi.Constr *Awaiting Model Update*>,\n",
       " (4, 5, 3): <gurobi.Constr *Awaiting Model Update*>,\n",
       " (4, 6, 1): <gurobi.Constr *Awaiting Model Update*>,\n",
       " (4, 6, 2): <gurobi.Constr *Awaiting Model Update*>,\n",
       " (4, 6, 3): <gurobi.Constr *Awaiting Model Update*>,\n",
       " (5, 1, 1): <gurobi.Constr *Awaiting Model Update*>,\n",
       " (5, 1, 2): <gurobi.Constr *Awaiting Model Update*>,\n",
       " (5, 1, 3): <gurobi.Constr *Awaiting Model Update*>,\n",
       " (5, 2, 1): <gurobi.Constr *Awaiting Model Update*>,\n",
       " (5, 2, 2): <gurobi.Constr *Awaiting Model Update*>,\n",
       " (5, 2, 3): <gurobi.Constr *Awaiting Model Update*>,\n",
       " (5, 3, 1): <gurobi.Constr *Awaiting Model Update*>,\n",
       " (5, 3, 2): <gurobi.Constr *Awaiting Model Update*>,\n",
       " (5, 3, 3): <gurobi.Constr *Awaiting Model Update*>,\n",
       " (5, 4, 1): <gurobi.Constr *Awaiting Model Update*>,\n",
       " (5, 4, 2): <gurobi.Constr *Awaiting Model Update*>,\n",
       " (5, 4, 3): <gurobi.Constr *Awaiting Model Update*>,\n",
       " (5, 6, 1): <gurobi.Constr *Awaiting Model Update*>,\n",
       " (5, 6, 2): <gurobi.Constr *Awaiting Model Update*>,\n",
       " (5, 6, 3): <gurobi.Constr *Awaiting Model Update*>,\n",
       " (6, 1, 1): <gurobi.Constr *Awaiting Model Update*>,\n",
       " (6, 1, 2): <gurobi.Constr *Awaiting Model Update*>,\n",
       " (6, 1, 3): <gurobi.Constr *Awaiting Model Update*>,\n",
       " (6, 2, 1): <gurobi.Constr *Awaiting Model Update*>,\n",
       " (6, 2, 2): <gurobi.Constr *Awaiting Model Update*>,\n",
       " (6, 2, 3): <gurobi.Constr *Awaiting Model Update*>,\n",
       " (6, 3, 1): <gurobi.Constr *Awaiting Model Update*>,\n",
       " (6, 3, 2): <gurobi.Constr *Awaiting Model Update*>,\n",
       " (6, 3, 3): <gurobi.Constr *Awaiting Model Update*>,\n",
       " (6, 4, 1): <gurobi.Constr *Awaiting Model Update*>,\n",
       " (6, 4, 2): <gurobi.Constr *Awaiting Model Update*>,\n",
       " (6, 4, 3): <gurobi.Constr *Awaiting Model Update*>,\n",
       " (6, 5, 1): <gurobi.Constr *Awaiting Model Update*>,\n",
       " (6, 5, 2): <gurobi.Constr *Awaiting Model Update*>,\n",
       " (6, 5, 3): <gurobi.Constr *Awaiting Model Update*>}"
      ]
     },
     "execution_count": 9,
     "metadata": {},
     "output_type": "execute_result"
    }
   ],
   "source": [
    "#Salida y llegada al CD\n",
    "mdl.addConstrs(quicksum(x[0, j, k] for j in clientes if j!= 0) <= 1 for k in vehiculos)\n",
    "mdl.addConstrs(quicksum(x[i, 0, k] for i in clientes if i!= 0) <= 1 for k in vehiculos)\n",
    "\n",
    "#Un vehiculo por nodo\n",
    "mdl.addConstrs(quicksum(x[i, j, k] for j in nodos for k in vehiculos if j != i) == 1 for i in clientes)\n",
    "mdl.addConstrs(quicksum(x[i, j, k] for k in vehiculos for i in nodos if i != j) == 1 for j in clientes)\n",
    "\n",
    "#Conservación del flujo\n",
    "mdl.addConstrs(quicksum(x[i, j, k]- x[j, i, k] for j in nodos if j != i) == 0 for i in clientes for k in vehiculos)\n",
    "\n",
    "#Capacidad del vehiculo\n",
    "mdl.addConstrs(quicksum(q[i]*x[i, j, k] for i in clientes for j in nodos if j != i) <= Q for k in vehiculos)\n",
    "\n",
    "#Ventanas de tiempo\n",
    "mdl.addConstrs((t[k,i] + s[i]+ tiempo[i,j] - M*(1 - x[i,j,k]) <= t[k,j]) for i in clientes for j in clientes for k in vehiculos if i != j)\n",
    "\n",
    "#Otra forma de escribir las restricciones de limites:\n",
    "    #mdl.addConstrs(a[i]<=t[k,i] for i in nodos for k in vehiculos)\n",
    "    #mdl.addConstrs(t[k,i]<=b[i] for i in nodos for k in vehiculos)\n"
   ]
  },
  {
   "cell_type": "markdown",
   "metadata": {},
   "source": [
    "#### Optimización y tiempo límite"
   ]
  },
  {
   "cell_type": "code",
   "execution_count": 10,
   "metadata": {},
   "outputs": [
    {
     "name": "stdout",
     "output_type": "stream",
     "text": [
      "Set parameter TimeLimit to value 120\n",
      "Gurobi Optimizer version 9.5.0 build v9.5.0rc5 (win64)\n",
      "Thread count: 4 physical cores, 8 logical processors, using up to 8 threads\n",
      "Optimize a model with 129 rows, 147 columns and 846 nonzeros\n",
      "Model fingerprint: 0xef386223\n",
      "Variable types: 21 continuous, 126 integer (126 binary)\n",
      "Coefficient statistics:\n",
      "  Matrix range     [1e+00, 1e+03]\n",
      "  Objective range  [1e+01, 5e+01]\n",
      "  Bounds range     [1e+00, 1e+00]\n",
      "  RHS range        [1e+00, 1e+03]\n",
      "Found heuristic solution: objective 235.6926210\n",
      "Presolve removed 0 rows and 3 columns\n",
      "Presolve time: 0.02s\n",
      "Presolved: 129 rows, 144 columns, 846 nonzeros\n",
      "Variable types: 18 continuous, 126 integer (126 binary)\n",
      "\n",
      "Root relaxation: objective 9.682788e+01, 16 iterations, 0.01 seconds (0.00 work units)\n",
      "\n",
      "    Nodes    |    Current Node    |     Objective Bounds      |     Work\n",
      " Expl Unexpl |  Obj  Depth IntInf | Incumbent    BestBd   Gap | It/Node Time\n",
      "\n",
      "     0     0   96.82788    0   12  235.69262   96.82788  58.9%     -    0s\n",
      "H    0     0                     227.3192622   96.82788  57.4%     -    0s\n",
      "H    0     0                     187.9516615   96.82788  48.5%     -    0s\n",
      "H    0     0                     182.4888094   96.82788  46.9%     -    0s\n",
      "     0     0  111.58969    0   20  182.48881  111.58969  38.9%     -    0s\n",
      "     0     0  111.58969    0   20  182.48881  111.58969  38.9%     -    0s\n",
      "H    0     0                     165.5598109  111.58969  32.6%     -    0s\n",
      "     0     0  127.76600    0   16  165.55981  127.76600  22.8%     -    0s\n",
      "     0     0  127.76600    0   12  165.55981  127.76600  22.8%     -    0s\n",
      "     0     0  128.67032    0   12  165.55981  128.67032  22.3%     -    0s\n",
      "     0     0  128.67032    0   12  165.55981  128.67032  22.3%     -    0s\n",
      "     0     2  129.04456    0   12  165.55981  129.04456  22.1%     -    0s\n",
      "\n",
      "Cutting planes:\n",
      "  Learned: 1\n",
      "  Gomory: 5\n",
      "  Cover: 2\n",
      "  MIR: 35\n",
      "  StrongCG: 5\n",
      "  GUB cover: 1\n",
      "  RLT: 26\n",
      "\n",
      "Explored 208 nodes (1691 simplex iterations) in 0.24 seconds (0.06 work units)\n",
      "Thread count was 8 (of 8 available processors)\n",
      "\n",
      "Solution count 5: 165.56 182.489 187.952 ... 235.693\n",
      "\n",
      "Optimal solution found (tolerance 1.00e-04)\n",
      "Best objective 1.655598109429e+02, best bound 1.655598109429e+02, gap 0.0000%\n"
     ]
    }
   ],
   "source": [
    "mdl.Params.TimeLimit = 120  #límite de tiempo (segundos)\n",
    "mdl.optimize()"
   ]
  },
  {
   "cell_type": "markdown",
   "metadata": {},
   "source": [
    "#### Arcos activos"
   ]
  },
  {
   "cell_type": "code",
   "execution_count": 11,
   "metadata": {},
   "outputs": [
    {
     "data": {
      "text/plain": [
       "[(0, 5, 3),\n",
       " (4, 6, 2),\n",
       " (5, 1, 3),\n",
       " (2, 4, 2),\n",
       " (1, 0, 3),\n",
       " (0, 2, 2),\n",
       " (3, 0, 2),\n",
       " (6, 3, 2)]"
      ]
     },
     "execution_count": 11,
     "metadata": {},
     "output_type": "execute_result"
    }
   ],
   "source": [
    "arcos_activos=[z for z in arcosVehiculos if x[z].x> 0.99] #con el .x se llama a la solución. En cplex es .solution_value \n",
    "arcos_activos"
   ]
  },
  {
   "cell_type": "markdown",
   "metadata": {},
   "source": [
    "#### Resultado de la optimización"
   ]
  },
  {
   "cell_type": "code",
   "execution_count": 12,
   "metadata": {},
   "outputs": [
    {
     "data": {
      "text/plain": [
       "165.55981094285247"
      ]
     },
     "execution_count": 12,
     "metadata": {},
     "output_type": "execute_result"
    }
   ],
   "source": [
    "mdl.objVal"
   ]
  },
  {
   "cell_type": "markdown",
   "metadata": {},
   "source": [
    "#### Graficar posición de los nodos"
   ]
  },
  {
   "cell_type": "code",
   "execution_count": 13,
   "metadata": {},
   "outputs": [
    {
     "data": {
      "image/png": "[encoded data removed]",
      "text/plain": [
       "<Figure size 1152x504 with 1 Axes>"
      ]
     },
     "metadata": {
      "needs_background": "light"
     },
     "output_type": "display_data"
    }
   ],
   "source": [
    "color={1:'blue',2:'red',3:'green'}\n",
    "plt.figure(figsize=(16,7)) #tamaño del lienzo donde se grafica\n",
    "plt.scatter(loc_x,loc_y,c='green') #graficar coordenadas de clientes\n",
    "\n",
    "for i in clientes:\n",
    "     plt.annotate('$q_{%d}=%d$'%(i,q[i]),(loc_x[i]-1,loc_y[i]-1.5)) #lo que acompaña al \"q\" es la demanda de cada cliente\n",
    "\n",
    "#graficar CD\n",
    "plt.plot(loc_x[0],loc_y[0],color=\"red\",marker='s') #marker (cuadrado)\n",
    "plt.annotate('CD',(loc_x[0]+0.5,loc_y[0]-0.5))\n",
    "\n",
    "for i,j,k in arcos_activos:\n",
    "     plt.plot([loc_x[i],loc_x[j]],[loc_y[i],loc_y[j]],c=color[k],alpha=0.3)\n",
    "\n",
    "#Formato al gráfico\n",
    "plt.xlabel(\"Eje X\")\n",
    "plt.ylabel(\"Eje y\")\n",
    "plt.title(\" Gráfico de Nodos - CVRPTW\")\n",
    "plt.show()\n"
   ]
  }
 ],
 "metadata": {
  "kernelspec": {
   "display_name": "Python 3",
   "language": "python",
   "name": "python3"
  },
  "language_info": {
   "codemirror_mode": {
    "name": "ipython",
    "version": 3
   },
   "file_extension": ".py",
   "mimetype": "text/x-python",
   "name": "python",
   "nbconvert_exporter": "python",
   "pygments_lexer": "ipython3",
   "version": "3.8.8"
  }
 },
 "nbformat": 4,
 "nbformat_minor": 2
}
